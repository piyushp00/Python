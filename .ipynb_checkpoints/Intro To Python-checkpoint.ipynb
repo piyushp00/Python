{
 "cells": [
  {
   "cell_type": "markdown",
   "id": "cecf67a0",
   "metadata": {},
   "source": [
    "## Intro to Jupyter\n",
    "\n",
    "We can write markdown or python codes in our cells.You can choose accordingly in the dropdown above."
   ]
  },
  {
   "cell_type": "code",
   "execution_count": 16,
   "id": "13971b38",
   "metadata": {},
   "outputs": [
    {
     "name": "stdout",
     "output_type": "stream",
     "text": [
      "5\n"
     ]
    }
   ],
   "source": [
    "a = 5\n",
    "print(a)"
   ]
  },
  {
   "cell_type": "code",
   "execution_count": 1,
   "id": "6f1ab75b",
   "metadata": {},
   "outputs": [
    {
     "name": "stdout",
     "output_type": "stream",
     "text": [
      "55\n"
     ]
    }
   ],
   "source": [
    "a = 10\n",
    "b = 45\n",
    "print(a + b)"
   ]
  },
  {
   "cell_type": "code",
   "execution_count": 2,
   "id": "a4866030",
   "metadata": {},
   "outputs": [
    {
     "name": "stdout",
     "output_type": "stream",
     "text": [
      "15\n",
      "8\n"
     ]
    }
   ],
   "source": [
    "a = 15\n",
    "b = 8\n",
    "print(a)\n",
    "print(b)"
   ]
  },
  {
   "cell_type": "markdown",
   "id": "ce075931",
   "metadata": {},
   "source": [
    "To prevent from printing in 2nd line,we can use\n",
    "print(a, end = \" \")"
   ]
  },
  {
   "cell_type": "code",
   "execution_count": 3,
   "id": "db7504e5",
   "metadata": {},
   "outputs": [
    {
     "name": "stdout",
     "output_type": "stream",
     "text": [
      "15 12\n",
      "12\n"
     ]
    }
   ],
   "source": [
    "a = 15\n",
    "b = 8\n",
    "print(a, end = \" \")\n",
    "print(12)\n",
    "print(12)\n"
   ]
  },
  {
   "cell_type": "code",
   "execution_count": 5,
   "id": "0c362ff9",
   "metadata": {},
   "outputs": [
    {
     "data": {
      "text/plain": [
       "10"
      ]
     },
     "execution_count": 5,
     "metadata": {},
     "output_type": "execute_result"
    }
   ],
   "source": [
    "a = 10\n",
    "a"
   ]
  },
  {
   "cell_type": "markdown",
   "id": "c6c22df4",
   "metadata": {},
   "source": [
    "in python last line output is treated as overall output.\n",
    "result will show  in output\n"
   ]
  },
  {
   "cell_type": "code",
   "execution_count": 6,
   "id": "8f5de929",
   "metadata": {},
   "outputs": [
    {
     "data": {
      "text/plain": [
       "20"
      ]
     },
     "execution_count": 6,
     "metadata": {},
     "output_type": "execute_result"
    }
   ],
   "source": [
    "#last line is output\n",
    "a = 10\n",
    "b = 20\n",
    "a\n",
    "b"
   ]
  },
  {
   "cell_type": "code",
   "execution_count": 14,
   "id": "827a71b8",
   "metadata": {
    "scrolled": true
   },
   "outputs": [
    {
     "name": "stdout",
     "output_type": "stream",
     "text": [
      "<class 'int'>\n",
      "<class 'float'>\n",
      "<class 'complex'>\n"
     ]
    }
   ],
   "source": [
    "#variable & types of numbers\n",
    "a = 10\n",
    "print(type(a))\n",
    "\n",
    "a = 12.3\n",
    "print(type(a))\n",
    "\n",
    "a = 2 + 3j\n",
    "print(type(a))"
   ]
  },
  {
   "cell_type": "code",
   "execution_count": 17,
   "id": "19470af8",
   "metadata": {},
   "outputs": [
    {
     "data": {
      "text/plain": [
       "(2+3j)"
      ]
     },
     "execution_count": 17,
     "metadata": {},
     "output_type": "execute_result"
    }
   ],
   "source": [
    "#operators\n",
    "a"
   ]
  },
  {
   "cell_type": "markdown",
   "id": "af1bf00b",
   "metadata": {},
   "source": [
    "Output of cells do not depend upon cell order, but execution order which means if if 1st cell is excuted in the last then value of a will be what it was in 1st cell"
   ]
  },
  {
   "cell_type": "code",
   "execution_count": 24,
   "id": "50adc5c6",
   "metadata": {},
   "outputs": [
    {
     "name": "stdout",
     "output_type": "stream",
     "text": [
      "12\n",
      "20\n",
      "32\n",
      "-8\n",
      "240\n",
      "0.6\n",
      "0\n",
      "144\n",
      "12\n"
     ]
    }
   ],
   "source": [
    "a = 12\n",
    "c = a + b\n",
    "print(a)\n",
    "print(b)\n",
    "print(c)\n",
    "print(a - b)\n",
    "print(a * b)\n",
    "print(a / b) #will give float value\n",
    "print(a // b) #will ive floor value ass c++,java\n",
    "print(a ** 2) #power a^2\n",
    "print(a % b)"
   ]
  },
  {
   "cell_type": "code",
   "execution_count": 25,
   "id": "d41a1ecb",
   "metadata": {},
   "outputs": [],
   "source": [
    "#Declarations\n",
    "a, b = 2 , 3\n",
    "a, b = 2, 3.5"
   ]
  },
  {
   "cell_type": "markdown",
   "id": "86b680bb",
   "metadata": {},
   "source": [
    "## String"
   ]
  },
  {
   "cell_type": "code",
   "execution_count": 31,
   "id": "785f2490",
   "metadata": {},
   "outputs": [
    {
     "name": "stdout",
     "output_type": "stream",
     "text": [
      "this is a sting\n"
     ]
    }
   ],
   "source": [
    "a = \"this is a string\"\n",
    "print(a)"
   ]
  },
  {
   "cell_type": "code",
   "execution_count": 44,
   "id": "74856062",
   "metadata": {},
   "outputs": [
    {
     "name": "stdout",
     "output_type": "stream",
     "text": [
      "3\n",
      "<class 'str'>\n"
     ]
    },
    {
     "data": {
      "text/plain": [
       "'defabc2'"
      ]
     },
     "execution_count": 44,
     "metadata": {},
     "output_type": "execute_result"
    }
   ],
   "source": [
    "#Typical String Properties\n",
    "print(len(a))\n",
    "print(type(a))\n",
    "a[0]\n",
    "#strings are immutable which means we can't modifyit like this\n",
    "#a[1] = \"2\" it will give error\n",
    "#a[1] = \"2\"\n",
    "a = \"def\"\n",
    "b = \"abc\"\n",
    "c = a + b\n",
    "d = c + \"2\"\n",
    "# d = c + 2 can't be done\n",
    " \n"
   ]
  },
  {
   "cell_type": "code",
   "execution_count": null,
   "id": "32927dd8",
   "metadata": {},
   "outputs": [],
   "source": []
  }
 ],
 "metadata": {
  "interpreter": {
   "hash": "2ce8955742f617d08a0570c03f03194f51099f6abf4642627ddfb0b76f159b41"
  },
  "kernelspec": {
   "display_name": "Python 3",
   "language": "python",
   "name": "python3"
  },
  "language_info": {
   "codemirror_mode": {
    "name": "ipython",
    "version": 3
   },
   "file_extension": ".py",
   "mimetype": "text/x-python",
   "name": "python",
   "nbconvert_exporter": "python",
   "pygments_lexer": "ipython3",
   "version": "3.8.8"
  }
 },
 "nbformat": 4,
 "nbformat_minor": 5
}
